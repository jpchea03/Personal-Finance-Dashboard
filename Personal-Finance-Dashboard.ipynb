{
 "cells": [
  {
   "cell_type": "markdown",
   "metadata": {},
   "source": [
    "## Get user input for weekly expenses"
   ]
  },
  {
   "cell_type": "code",
   "execution_count": 18,
   "metadata": {},
   "outputs": [],
   "source": [
    "#Prompt user for input for weekly expenses\n",
    "def get_weekly_expenses():\n",
    "    print(\"*Weekly Expenses*\")\n",
    "    print(\"Groceries: \", end=\"\")\n",
    "    weekly_groceries = input()\n",
    "    print(weekly_groceries)\n",
    "    print(\"Gas: \", end=\"\")\n",
    "    weekly_gas = input()\n",
    "    print(weekly_gas)\n",
    "    print(\"Entertainment: \", end=\"\")\n",
    "    weekly_entertainment = input()\n",
    "    print(weekly_entertainment)\n",
    "    print(\"Other: \", end=\"\")\n",
    "    weekly_other = input()\n",
    "    print(weekly_other)"
   ]
  },
  {
   "cell_type": "markdown",
   "metadata": {},
   "source": [
    "## Get user input for monthly expenses"
   ]
  },
  {
   "cell_type": "code",
   "execution_count": 19,
   "metadata": {},
   "outputs": [],
   "source": [
    "#Prompt user for input for monthly expenses\n",
    "def get_monthly_expenses():\n",
    "    print(\"*Monthly Expenses*\")\n",
    "    print(\"Rent: \", end=\"\")\n",
    "    monthly_rent = input()\n",
    "    print(monthly_rent)\n",
    "    print(\"Utilities: \", end=\"\")\n",
    "    monthly_utilites = input()\n",
    "    print(monthly_utilites)\n",
    "    print(\"Monthly Insurance: \", end=\"\")\n",
    "    monthly_insurance = input()\n",
    "    print(monthly_insurance)\n",
    "    print(\"Other: \", end=\"\")\n",
    "    monthly_other = input()\n",
    "    print(monthly_other)\n"
   ]
  },
  {
   "cell_type": "markdown",
   "metadata": {},
   "source": [
    "## Get user input for yearly expenses"
   ]
  },
  {
   "cell_type": "code",
   "execution_count": 20,
   "metadata": {},
   "outputs": [],
   "source": [
    "#Prompt user from input for yearly expenses\n",
    "def get_yearly_expenses():\n",
    "    print(\"*Yearly Expenses*\")\n",
    "    print(\"Property Taxes: \", end=\"\")\n",
    "    yearly_property_tax = input()\n",
    "    print(yearly_property_tax)\n",
    "    print(\"Vehicle Tax: \", end=\"\")\n",
    "    yearly_vehicle_tax = input()\n",
    "    print(yearly_vehicle_tax)\n",
    "    \n"
   ]
  },
  {
   "cell_type": "markdown",
   "metadata": {},
   "source": [
    "## Gather user input"
   ]
  },
  {
   "cell_type": "code",
   "execution_count": 21,
   "metadata": {},
   "outputs": [
    {
     "name": "stdout",
     "output_type": "stream",
     "text": [
      "*Weekly Expenses*\n",
      "Groceries: 75\n",
      "Gas: 46\n",
      "Entertainment: 23\n",
      "Other: 719\n",
      "\n",
      "\n",
      "*Monthly Expenses*\n",
      "Rent: 719\n",
      "Utilities: 123\n",
      "Monthly Insurance: 343\n",
      "Other: 223\n",
      "\n",
      "\n",
      "*Yearly Expenses*\n",
      "Property Taxes: 345\n",
      "Vehicle Tax: 212\n"
     ]
    }
   ],
   "source": [
    "get_weekly_expenses()\n",
    "print(\"\\n\")\n",
    "get_monthly_expenses()\n",
    "print(\"\\n\")\n",
    "get_yearly_expenses()"
   ]
  }
 ],
 "metadata": {
  "kernelspec": {
   "display_name": "CSE532",
   "language": "python",
   "name": "python3"
  },
  "language_info": {
   "codemirror_mode": {
    "name": "ipython",
    "version": 3
   },
   "file_extension": ".py",
   "mimetype": "text/x-python",
   "name": "python",
   "nbconvert_exporter": "python",
   "pygments_lexer": "ipython3",
   "version": "3.12.4"
  }
 },
 "nbformat": 4,
 "nbformat_minor": 2
}
