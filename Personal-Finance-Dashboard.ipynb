{
 "cells": [
  {
   "cell_type": "markdown",
   "metadata": {},
   "source": [
    "## Get user input for weekly expenses\n",
    "Use this function to get users weekly expenses. Saves expenses as a dictionary where the Key is the expense name and the value is the weekly amount."
   ]
  },
  {
   "cell_type": "code",
   "execution_count": 16,
   "metadata": {},
   "outputs": [],
   "source": [
    "#Prompt user for input for weekly expenses\n",
    "def get_weekly_expenses():\n",
    "    weekly_expenses = dict() #Create new dict to store weekly expenses\n",
    "    escape_code = 'n'\n",
    "    user_input = \"\"\n",
    "    expense_counter = 1\n",
    "    print(\"*Weekly Expenses*\")\n",
    "\n",
    "    #Take input until user types escape code\n",
    "    while user_input != escape_code:\n",
    "        print(f\"\\n--Expense {expense_counter}--\")\n",
    "        print(\"Enter expense name: \", end=\"\", flush = True)\n",
    "        expense_name = input()\n",
    "        print(expense_name)\n",
    "        print(\"Enter expense amount: \", end=\"\", flush = True)\n",
    "        user_input = input()\n",
    "        #Verify that input amount is a float\n",
    "        try:\n",
    "            expense_amount = float(user_input)\n",
    "            print(f\"${expense_amount:.2f}\")\n",
    "            weekly_expenses.update({expense_name:expense_amount})\n",
    "        except:\n",
    "            print(\"Invalid input\")\n",
    "        #Check if user wishes to add another expense\n",
    "        print(\"Add another expense? (y/n) \", end=\"\", flush = True) \n",
    "        user_input = input()\n",
    "        expense_counter += 1\n",
    "\n",
    "    #Return weekly expense dictionary\n",
    "    return weekly_expenses\n",
    "\n",
    "    "
   ]
  },
  {
   "cell_type": "markdown",
   "metadata": {},
   "source": [
    "## Get user input for monthly expenses"
   ]
  },
  {
   "cell_type": "code",
   "execution_count": 15,
   "metadata": {},
   "outputs": [],
   "source": [
    "#Prompt user for input for monthly expenses\n",
    "def get_monthly_expenses():\n",
    "    monthly_expenses = dict() #Create new dict to store monthly expenses\n",
    "    escape_code = 'n'\n",
    "    user_input = \"\"\n",
    "    expense_counter = 1\n",
    "    print(\"*Monthly Expenses*\")\n",
    "\n",
    "    #Take input until user types escape code\n",
    "    while user_input != escape_code:\n",
    "        print(f\"\\n--Expense {expense_counter}--\")\n",
    "        print(\"Enter expense name: \", end=\"\", flush = True)\n",
    "        expense_name = input()\n",
    "        print(expense_name)\n",
    "        print(\"Enter expense amount: \", end=\"\", flush = True)\n",
    "        user_input = input()\n",
    "        #Verify that input amount is a float\n",
    "        try:\n",
    "            expense_amount = float(user_input)\n",
    "            print(f\"${expense_amount:.2f}\")\n",
    "            monthly_expenses.update({expense_name:expense_amount})\n",
    "        except:\n",
    "            print(\"Invalid input\")\n",
    "        #Check if user wishes to add another expense\n",
    "        print(\"Add another expense? (y/n) \", end=\"\", flush = True) \n",
    "        user_input = input()\n",
    "        expense_counter += 1\n",
    "\n",
    "    #Return monthly expense dictionary\n",
    "    return monthly_expenses\n"
   ]
  },
  {
   "cell_type": "markdown",
   "metadata": {},
   "source": [
    "## Get user input for annual expenses"
   ]
  },
  {
   "cell_type": "code",
   "execution_count": 18,
   "metadata": {},
   "outputs": [],
   "source": [
    "#Prompt user for input for annual expenses\n",
    "def get_annual_expenses():\n",
    "    annual_expenses = dict() #Create new dict to store annual expenses\n",
    "    escape_code = 'n'\n",
    "    user_input = \"\"\n",
    "    expense_counter = 1\n",
    "    print(\"*Annual Expenses*\")\n",
    "\n",
    "    #Take input until user types escape code\n",
    "    while user_input != escape_code:\n",
    "        print(f\"\\n--Expense {expense_counter}--\")\n",
    "        print(\"Enter expense name: \", end=\"\", flush = True)\n",
    "        expense_name = input()\n",
    "        print(expense_name)\n",
    "        print(\"Enter expense amount: \", end=\"\", flush = True)\n",
    "        user_input = input()\n",
    "        #Verify that input amount is a float\n",
    "        try:\n",
    "            expense_amount = float(user_input)\n",
    "            print(f\"${expense_amount:.2f}\")\n",
    "            annual_expenses.update({expense_name:expense_amount})\n",
    "        except:\n",
    "            print(\"Invalid input\")\n",
    "        #Check if user wishes to add another expense\n",
    "        print(\"Add another expense? (y/n) \", end=\"\", flush = True) \n",
    "        user_input = input()\n",
    "        expense_counter += 1\n",
    "\n",
    "    #Return weekly expense dictionary\n",
    "    return annual_expenses\n",
    "    \n"
   ]
  },
  {
   "cell_type": "markdown",
   "metadata": {},
   "source": [
    "## Weekly Test"
   ]
  },
  {
   "cell_type": "code",
   "execution_count": 22,
   "metadata": {},
   "outputs": [
    {
     "name": "stdout",
     "output_type": "stream",
     "text": [
      "*Weekly Expenses*\n",
      "\n",
      "--Expense 1--\n",
      "Enter expense name: Groceries\n",
      "Enter expense amount: $89.70\n",
      "Add another expense? (y/n) \n",
      "--Expense 2--\n",
      "Enter expense name: Gas\n",
      "Enter expense amount: $43.20\n",
      "Add another expense? (y/n) \n",
      "--Expense 3--\n",
      "Enter expense name: Entertainment\n",
      "Enter expense amount: $25.00\n",
      "Add another expense? (y/n) \n",
      "\n",
      "{'Groceries': 89.7, 'Gas': 43.2, 'Entertainment': 25.0}\n"
     ]
    }
   ],
   "source": [
    "weekly_expenses = get_weekly_expenses()\n",
    "print(\"\\n\")\n",
    "print(weekly_expenses)"
   ]
  },
  {
   "cell_type": "markdown",
   "metadata": {},
   "source": [
    "## Monthly Test"
   ]
  },
  {
   "cell_type": "code",
   "execution_count": 17,
   "metadata": {},
   "outputs": [
    {
     "name": "stdout",
     "output_type": "stream",
     "text": [
      "*Monthly Expenses*\n",
      "\n",
      "--Expense 1--\n",
      "Enter expense name: Rent\n",
      "Enter expense amount: $820.00\n",
      "Add another expense? (y/n) \n",
      "--Expense 2--\n",
      "Enter expense name: Utilities\n",
      "Enter expense amount: $102.97\n",
      "Add another expense? (y/n) \n",
      "--Expense 3--\n",
      "Enter expense name: Gym Membership\n",
      "Enter expense amount: $15.99\n",
      "Add another expense? (y/n) \n",
      "\n",
      "{'Rent': 820.0, 'Utilities': 102.97, 'Gym Membership': 15.99}\n"
     ]
    }
   ],
   "source": [
    "monthly_expenses = get_monthly_expenses()\n",
    "print(\"\\n\")\n",
    "print(monthly_expenses)"
   ]
  },
  {
   "cell_type": "markdown",
   "metadata": {},
   "source": [
    "## Annual Test"
   ]
  },
  {
   "cell_type": "code",
   "execution_count": 20,
   "metadata": {},
   "outputs": [
    {
     "name": "stdout",
     "output_type": "stream",
     "text": [
      "*Annual Expenses*\n",
      "\n",
      "--Expense 1--\n",
      "Enter expense name: Property Taxes\n",
      "Enter expense amount: $250.00\n",
      "Add another expense? (y/n) \n",
      "--Expense 2--\n",
      "Enter expense name: Vehicle Taxes\n",
      "Enter expense amount: $202.78\n",
      "Add another expense? (y/n) \n",
      "\n",
      "{'Property Taxes': 250.0, 'Vehicle Taxes': 202.78}\n"
     ]
    }
   ],
   "source": [
    "annual_expenses = get_annual_expenses()\n",
    "print(\"\\n\")\n",
    "print(annual_expenses)"
   ]
  }
 ],
 "metadata": {
  "kernelspec": {
   "display_name": "CSE532",
   "language": "python",
   "name": "python3"
  },
  "language_info": {
   "codemirror_mode": {
    "name": "ipython",
    "version": 3
   },
   "file_extension": ".py",
   "mimetype": "text/x-python",
   "name": "python",
   "nbconvert_exporter": "python",
   "pygments_lexer": "ipython3",
   "version": "3.12.4"
  }
 },
 "nbformat": 4,
 "nbformat_minor": 2
}
